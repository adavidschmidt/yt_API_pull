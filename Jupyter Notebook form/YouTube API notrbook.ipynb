{
 "cells": [
  {
   "cell_type": "code",
   "execution_count": null,
   "metadata": {},
   "outputs": [],
   "source": [
    "# import libraries\n",
    "\n",
    "import pandas as pd\n",
    "import requests\n",
    "import json\n",
    "import time"
   ]
  },
  {
   "cell_type": "code",
   "execution_count": null,
   "metadata": {},
   "outputs": [],
   "source": [
    "# API key for YouTube API can be gotten from console.cloud.google.com\n",
    "# using a with to open my key location and assign the variable\n",
    "with open('youtube key.txt','r') as f:\n",
    "    API_KEY = f.read()  \n",
    "CHANNEL_ID = '' # Channel Id for channel you are looking for can be obtained from the about section of the channel under the shar button\n",
    "\n",
    "df = pd.DataFrame(columns=[\"Video_id\",\"Video_title\",\"Upload_date\",\n",
    "\"View_count\",\"Like_count\",\"Comment_count\"])  # setting up our dataframe for future additions\n",
    " "
   ]
  },
  {
   "cell_type": "code",
   "execution_count": null,
   "metadata": {},
   "outputs": [],
   "source": [
    "# Define function to get information from video_id\n",
    "\n",
    "def get_video_data(video_id):\n",
    "    # sets the url to be based on the video id we will get from the next function\n",
    "    url = \"https://www.googleapis.com/youtube/v3/videos?id=\"+video_id+\"&part=statistics&key=\"+API_KEY  \n",
    "\n",
    "    response = requests.get(url).json()\n",
    "\n",
    "    # assign the items we want to pull out of the json to add to a dataframe\n",
    "    return response['items'][0]['statistics']['viewCount'],\\\n",
    "           response['items'][0]['statistics']['likeCount'],\\\n",
    "           response['items'][0]['statistics']['commentCount']"
   ]
  },
  {
   "cell_type": "code",
   "execution_count": null,
   "metadata": {},
   "outputs": [],
   "source": [
    "# Define function to pull videos from the channel_id and use the get_video_data function to pull specific data to a df\n",
    "\n",
    "def get_video(df):\n",
    "    pageToken = ''\n",
    "    # print('Enter your API key:')\n",
    "    # API_KEY = input()\n",
    "    # print('Enter the channel ID:')\n",
    "    # CHANNEL_ID = input()\n",
    "    while 1:\n",
    "\n",
    "        # set url to be the channel information as well as include a max result count to maintain our quota limit\n",
    "        url = \"https://www.googleapis.com/youtube/v3/search?key=\"+API_KEY+\"&channelId=\"+CHANNEL_ID+\"&part=snippet,id&order=date&maxResults=10000&\"+pageToken\n",
    "\n",
    "        response = requests.get(url).json()\n",
    "\n",
    "        # set timer to allow the response request to be fulfilled before moving into the for loop\n",
    "        time.sleep(2)\n",
    "\n",
    "        # create a for loop to go through the items generated in the json for the video id to gather the information we are looking for\n",
    "        for video in response['items']:\n",
    "            if video['id']['kind'] == 'youtube#video':\n",
    "                video_id = video['id']['videoId']\n",
    "                video_title = video['snippet']['title']\n",
    "                video_title = str(video_title).replace('&amp;','')\n",
    "                video_title = str(video_title).replace('&#39;',\"'\")\n",
    "                upload_date = video['snippet']['publishTime']\n",
    "                upload_date = str(upload_date).split('T')[0]\n",
    "                print(upload_date)\n",
    "\n",
    "                # create data points using information from the prior function\n",
    "                view_count, like_count, comment_count = get_video_data(video_id)\n",
    "\n",
    "                # add items gathered to our dataframe\n",
    "                df = df.append({'Video_id':video_id,\n",
    "                                'Video_title':video_title,\n",
    "                                'Upload_date':upload_date,\n",
    "                                'View_count':view_count,\n",
    "                                'Like_count':like_count,\n",
    "                                'Comment_count':comment_count},\n",
    "                                ignore_index = True)\n",
    "        # create a try statement to allow the program to continue across multiple pages of video until no new page is available then break the function\n",
    "        try:\n",
    "            if response['nextPageToken'] != None:\n",
    "                pageToken = 'pageToken=' + response['nextPageToken']\n",
    "        except:\n",
    "            break\n",
    "\n",
    "    # return the df with the new information added\n",
    "    return df"
   ]
  },
  {
   "cell_type": "code",
   "execution_count": null,
   "metadata": {},
   "outputs": [],
   "source": [
    "# run the functions\n",
    "df = get_video(df)\n"
   ]
  },
  {
   "cell_type": "code",
   "execution_count": null,
   "metadata": {},
   "outputs": [],
   "source": [
    "# minor cleaning of the data to change datatypes of several columns for analysis\n",
    "\n",
    "df['Upload_date'] = pd.to_datetime(df['Upload_date'])\n",
    "df['View_count'] = df['View_count'].astype(int)\n",
    "df['Like_count'] = df['Like_count'].astype(int)\n",
    "df['Comment_count'] = df['Comment_count'].astype(int)\n"
   ]
  }
 ],
 "metadata": {
  "kernelspec": {
   "display_name": "Python 3",
   "language": "python",
   "name": "python3"
  },
  "language_info": {
   "codemirror_mode": {
    "name": "ipython",
    "version": 3
   },
   "file_extension": ".py",
   "mimetype": "text/x-python",
   "name": "python",
   "nbconvert_exporter": "python",
   "pygments_lexer": "ipython3",
   "version": "3.10.6"
  },
  "orig_nbformat": 4
 },
 "nbformat": 4,
 "nbformat_minor": 2
}
